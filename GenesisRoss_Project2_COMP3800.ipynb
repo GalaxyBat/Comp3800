{
  "nbformat": 4,
  "nbformat_minor": 0,
  "metadata": {
    "colab": {
      "provenance": []
    },
    "kernelspec": {
      "name": "python3",
      "display_name": "Python 3"
    },
    "language_info": {
      "name": "python"
    }
  },
  "cells": [
    {
      "cell_type": "markdown",
      "source": [
        "GitHub Link:"
      ],
      "metadata": {
        "id": "8zLUHURAfkB2"
      }
    },
    {
      "cell_type": "code",
      "execution_count": 28,
      "metadata": {
        "id": "Ip2uHv0KogX1"
      },
      "outputs": [],
      "source": [
        "#Load the data\n",
        "import matplotlib.pyplot as plt\n",
        "from sklearn.linear_model import LinearRegression\n",
        "from sklearn.model_selection import train_test_split\n",
        "import numpy as np\n",
        "import pandas as pd\n",
        "from sklearn.linear_model import LogisticRegression\n",
        "from imblearn.over_sampling import SMOTE\n",
        "from sklearn.feature_selection import SelectKBest, f_classif, chi2\n",
        "from sklearn.metrics import confusion_matrix\n",
        "from sklearn.metrics import log_loss, roc_auc_score, recall_score, precision_score, average_precision_score, f1_score, classification_report, accuracy_score\n",
        "from sklearn.preprocessing import MinMaxScaler\n",
        "from sklearn import svm, datasets\n",
        "from sklearn.neighbors import KNeighborsClassifier\n",
        "%matplotlib inline\n",
        "from sklearn.preprocessing import StandardScaler\n",
        "from sklearn.model_selection import cross_val_score\n",
        "from sklearn.metrics import make_scorer, f1_score\n",
        "df = pd.read_excel(\"titanic3.xls\", engine='xlrd')"
      ]
    },
    {
      "cell_type": "code",
      "source": [
        "print(df.dtypes)"
      ],
      "metadata": {
        "colab": {
          "base_uri": "https://localhost:8080/"
        },
        "id": "vxXicQAwj31t",
        "outputId": "56e6be64-ff49-46f7-9f79-0b7ef58cdbbd"
      },
      "execution_count": 29,
      "outputs": [
        {
          "output_type": "stream",
          "name": "stdout",
          "text": [
            "pclass         int64\n",
            "survived       int64\n",
            "name          object\n",
            "sex           object\n",
            "age          float64\n",
            "sibsp          int64\n",
            "parch          int64\n",
            "ticket        object\n",
            "fare         float64\n",
            "cabin         object\n",
            "embarked      object\n",
            "boat          object\n",
            "body         float64\n",
            "home.dest     object\n",
            "dtype: object\n"
          ]
        }
      ]
    },
    {
      "cell_type": "markdown",
      "source": [
        "Our goal is finding out the predidted survival rate of the Titanic passangers. The features of the dataset is the passanger's class ticket, if they sruvived the Titanic or not, their names, gender, and age, how many of them were siblings or spouces, or parents and children, how much their ticket number, how much the ticket price was, their cabin number, where they started the journey, what the life boat they got on was if they survived, if their body had been found what was the body number, what their home desitination was if they survived.\n",
        "\n",
        "\n",
        "The target variable will be the survival feature as we're trying to find out what the survival rate of the passage is."
      ],
      "metadata": {
        "id": "NCYIPSiLBsu2"
      }
    },
    {
      "cell_type": "code",
      "source": [
        "#Drop unwanted features\n",
        "df = df.drop(['name', 'ticket', 'fare', 'cabin', 'boat', 'body', 'home.dest'], axis=1)\n",
        "print(df.dtypes)"
      ],
      "metadata": {
        "colab": {
          "base_uri": "https://localhost:8080/"
        },
        "id": "G2YQnN0PvPJy",
        "outputId": "609fcc33-5dc3-4530-988c-4872cf089e01"
      },
      "execution_count": 30,
      "outputs": [
        {
          "output_type": "stream",
          "name": "stdout",
          "text": [
            "pclass        int64\n",
            "survived      int64\n",
            "sex          object\n",
            "age         float64\n",
            "sibsp         int64\n",
            "parch         int64\n",
            "embarked     object\n",
            "dtype: object\n"
          ]
        }
      ]
    },
    {
      "cell_type": "code",
      "source": [
        "#How many nulls there are in each of the remaining features\n",
        "print(df.isnull().sum())\n",
        "#There are 263 in age and 2 in embarked"
      ],
      "metadata": {
        "colab": {
          "base_uri": "https://localhost:8080/"
        },
        "id": "0QDCK-NrxqQ7",
        "outputId": "3b12ae4f-d79d-4540-e026-9650aea43f93"
      },
      "execution_count": 31,
      "outputs": [
        {
          "output_type": "stream",
          "name": "stdout",
          "text": [
            "pclass        0\n",
            "survived      0\n",
            "sex           0\n",
            "age         263\n",
            "sibsp         0\n",
            "parch         0\n",
            "embarked      2\n",
            "dtype: int64\n"
          ]
        }
      ]
    },
    {
      "cell_type": "code",
      "source": [
        "#Fill in the null values for age\n",
        "df['age'] = df['age'].fillna(df['age'].median())"
      ],
      "metadata": {
        "id": "7EGBVsn6z2_G"
      },
      "execution_count": 32,
      "outputs": []
    },
    {
      "cell_type": "code",
      "source": [
        "#Drop the null values for embarked\n",
        "df = df.dropna(subset='embarked')"
      ],
      "metadata": {
        "id": "vPJ5Td5m3Def"
      },
      "execution_count": 33,
      "outputs": []
    },
    {
      "cell_type": "code",
      "source": [
        "#Check for nulls\n",
        "print(df.isnull().sum())"
      ],
      "metadata": {
        "colab": {
          "base_uri": "https://localhost:8080/"
        },
        "id": "o68JLnFj5_0j",
        "outputId": "75704c9e-576d-4d3d-cdc3-a5335531cba2"
      },
      "execution_count": 34,
      "outputs": [
        {
          "output_type": "stream",
          "name": "stdout",
          "text": [
            "pclass      0\n",
            "survived    0\n",
            "sex         0\n",
            "age         0\n",
            "sibsp       0\n",
            "parch       0\n",
            "embarked    0\n",
            "dtype: int64\n"
          ]
        }
      ]
    },
    {
      "cell_type": "code",
      "source": [
        "#Drop duplicates\n",
        "titanic_clean = df.drop_duplicates()"
      ],
      "metadata": {
        "id": "a_sULlYf6C2D"
      },
      "execution_count": 35,
      "outputs": []
    },
    {
      "cell_type": "code",
      "source": [
        "#Check for inconsitent unique values in categorical data\n",
        "print(titanic_clean['sex'].unique())\n",
        "print(titanic_clean['embarked'].unique())\n"
      ],
      "metadata": {
        "colab": {
          "base_uri": "https://localhost:8080/"
        },
        "id": "MsqxgeM_8PAx",
        "outputId": "4a0b4ffd-26dd-4baa-8bd4-4fa9ba69c492"
      },
      "execution_count": 36,
      "outputs": [
        {
          "output_type": "stream",
          "name": "stdout",
          "text": [
            "['female' 'male']\n",
            "['S' 'C' 'Q']\n"
          ]
        }
      ]
    },
    {
      "cell_type": "code",
      "source": [
        "#Change the categorical variables into numeric variables\n",
        "titanic_clean['sex'] = titanic_clean['sex'].map({'female': 1, 'male': 0})\n",
        "print(titanic_clean['sex'].unique())"
      ],
      "metadata": {
        "colab": {
          "base_uri": "https://localhost:8080/"
        },
        "id": "7XCoYdZf87XB",
        "outputId": "05c9bed1-c3ae-4095-cafc-a7d7a724a958"
      },
      "execution_count": 37,
      "outputs": [
        {
          "output_type": "stream",
          "name": "stdout",
          "text": [
            "[1 0]\n"
          ]
        },
        {
          "output_type": "stream",
          "name": "stderr",
          "text": [
            "<ipython-input-37-976eeb07136c>:2: SettingWithCopyWarning: \n",
            "A value is trying to be set on a copy of a slice from a DataFrame.\n",
            "Try using .loc[row_indexer,col_indexer] = value instead\n",
            "\n",
            "See the caveats in the documentation: https://pandas.pydata.org/pandas-docs/stable/user_guide/indexing.html#returning-a-view-versus-a-copy\n",
            "  titanic_clean['sex'] = titanic_clean['sex'].map({'female': 1, 'male': 0})\n"
          ]
        }
      ]
    },
    {
      "cell_type": "code",
      "source": [
        "#Change the categorical variables into numeric variables\n",
        "titanic_clean['embarked'] = titanic_clean['embarked'].map({'S':2,'C': 1, 'Q': 0})\n",
        "print(titanic_clean['embarked'].unique())"
      ],
      "metadata": {
        "colab": {
          "base_uri": "https://localhost:8080/"
        },
        "id": "BEiphiLgAscV",
        "outputId": "ad7183af-e054-4363-af19-1392bd9363af"
      },
      "execution_count": 38,
      "outputs": [
        {
          "output_type": "stream",
          "name": "stdout",
          "text": [
            "[2 1 0]\n"
          ]
        },
        {
          "output_type": "stream",
          "name": "stderr",
          "text": [
            "<ipython-input-38-11ba092d756a>:2: SettingWithCopyWarning: \n",
            "A value is trying to be set on a copy of a slice from a DataFrame.\n",
            "Try using .loc[row_indexer,col_indexer] = value instead\n",
            "\n",
            "See the caveats in the documentation: https://pandas.pydata.org/pandas-docs/stable/user_guide/indexing.html#returning-a-view-versus-a-copy\n",
            "  titanic_clean['embarked'] = titanic_clean['embarked'].map({'S':2,'C': 1, 'Q': 0})\n"
          ]
        }
      ]
    },
    {
      "cell_type": "code",
      "source": [
        "#Check for outliers\n",
        "fig = plt.figure(figsize=(30, 10))\n",
        "i=0\n",
        "for column in titanic_clean:\n",
        "    sub=fig.add_subplot(3,5,i+1)\n",
        "    titanic_clean[column].plot(kind='hist')\n",
        "    sub.set_xlabel(column)\n",
        "    i=i+1\n",
        "plt.show()\n",
        "#Keep the outliers as it seems that sibsp and parch are connected and removing outliers for one affects the other feature"
      ],
      "metadata": {
        "colab": {
          "base_uri": "https://localhost:8080/",
          "height": 329
        },
        "id": "ngEwNLigbyY9",
        "outputId": "1b373e05-3435-4043-ec1d-74ad5f1113a6"
      },
      "execution_count": 39,
      "outputs": [
        {
          "output_type": "display_data",
          "data": {
            "text/plain": [
              "<Figure size 3000x1000 with 7 Axes>"
            ],
            "image/png": "[encoded data removed]"
          },
          "metadata": {}
        }
      ]
    },
    {
      "cell_type": "code",
      "source": [
        "#Use ANVO test to reduce the dimension for numerical features\n",
        "x = titanic_clean.loc[:, ['age', 'sibsp', 'parch']]\n",
        "y = titanic_clean.loc[:, 'survived']\n",
        "\n",
        "fs = SelectKBest(score_func=f_classif, k='all')\n",
        "bestFeatures = fs.fit(x, y)\n",
        "np.set_printoptions(suppress = True)\n",
        "print(bestFeatures.scores_)\n",
        "print(bestFeatures.pvalues_)"
      ],
      "metadata": {
        "colab": {
          "base_uri": "https://localhost:8080/"
        },
        "id": "BRVp6vJbfh6B",
        "outputId": "4bfd5c17-ee00-40e4-e724-aa8e37fad4f2"
      },
      "execution_count": 40,
      "outputs": [
        {
          "output_type": "stream",
          "name": "stdout",
          "text": [
            "[ 6.16375183 13.01072967  0.03050167]\n",
            "[0.01324346 0.00032893 0.86140099]\n"
          ]
        }
      ]
    },
    {
      "cell_type": "code",
      "source": [
        "#Use chi-squared test to reduce the dimenion for categorical features\n",
        "chi = SelectKBest(score_func=chi2, k='all')\n",
        "x = titanic_clean.loc[:, ['pclass', 'sex', 'embarked']]\n",
        "catFeatures = chi.fit(x, y)\n",
        "print(catFeatures.scores_)\n",
        "print(catFeatures.pvalues_)"
      ],
      "metadata": {
        "colab": {
          "base_uri": "https://localhost:8080/"
        },
        "id": "4gWrOlk-4t3J",
        "outputId": "be8848e7-5fee-4a61-c5f5-aab255895171"
      },
      "execution_count": 41,
      "outputs": [
        {
          "output_type": "stream",
          "name": "stdout",
          "text": [
            "[21.06263414 88.14113841  0.17968552]\n",
            "[0.00000445 0.         0.67164364]\n"
          ]
        }
      ]
    },
    {
      "cell_type": "code",
      "source": [
        "#Drop the values with the least significance\n",
        "titanic_clean = titanic_clean.drop(['parch', 'embarked'], axis=1)\n",
        "print(titanic_clean.dtypes)\n",
        "#Parch and embarked had the least signifiance and thus was irrelevant to the data"
      ],
      "metadata": {
        "id": "OGI_XKMTOK5U",
        "colab": {
          "base_uri": "https://localhost:8080/"
        },
        "outputId": "a5f3af9a-e466-405f-9966-2c804c77f0bd"
      },
      "execution_count": 42,
      "outputs": [
        {
          "output_type": "stream",
          "name": "stdout",
          "text": [
            "pclass        int64\n",
            "survived      int64\n",
            "sex           int64\n",
            "age         float64\n",
            "sibsp         int64\n",
            "dtype: object\n"
          ]
        }
      ]
    },
    {
      "cell_type": "code",
      "source": [
        "#Use correlation analysis to see if there's any high correlated features.\n",
        "print(titanic_clean.corr())\n",
        "#The highest correlated feautes are sibsp with pclass and sex with survived but they themselves are not highly correlated"
      ],
      "metadata": {
        "id": "dgPIkQDc8BeL",
        "colab": {
          "base_uri": "https://localhost:8080/"
        },
        "outputId": "e2d95e79-5866-4ad4-8d15-d3a41a6e850e"
      },
      "execution_count": 43,
      "outputs": [
        {
          "output_type": "stream",
          "name": "stdout",
          "text": [
            "            pclass  survived       sex       age     sibsp\n",
            "pclass    1.000000 -0.276941 -0.035877 -0.389357  0.158131\n",
            "survived -0.276941  1.000000  0.446054 -0.087440 -0.126504\n",
            "sex      -0.035877  0.446054  1.000000 -0.100373  0.011625\n",
            "age      -0.389357 -0.087440 -0.100373  1.000000 -0.274328\n",
            "sibsp     0.158131 -0.126504  0.011625 -0.274328  1.000000\n"
          ]
        }
      ]
    },
    {
      "cell_type": "markdown",
      "source": [
        "None of the categorical data needs to be changed into dummy variables"
      ],
      "metadata": {
        "id": "EQ6dpO4pH3M7"
      }
    },
    {
      "cell_type": "code",
      "source": [
        "#Normalize all the features\n",
        "scaler = MinMaxScaler()\n",
        "normalized_titanic_data = scaler.fit_transform(titanic_clean)\n",
        "normalized_titanic = pd.DataFrame(normalized_titanic_data, columns=titanic_clean.columns)\n",
        "\n",
        "print(normalized_titanic)"
      ],
      "metadata": {
        "colab": {
          "base_uri": "https://localhost:8080/"
        },
        "id": "dIx3z3l-6-WP",
        "outputId": "3a1c865d-e208-4b86-98b8-9d3981bcca3a"
      },
      "execution_count": 44,
      "outputs": [
        {
          "output_type": "stream",
          "name": "stdout",
          "text": [
            "     pclass  survived  sex       age  sibsp\n",
            "0       0.0       1.0  1.0  0.361169  0.000\n",
            "1       0.0       1.0  0.0  0.009395  0.125\n",
            "2       0.0       0.0  1.0  0.022964  0.125\n",
            "3       0.0       0.0  0.0  0.373695  0.125\n",
            "4       0.0       0.0  1.0  0.311064  0.125\n",
            "..      ...       ...  ...       ...    ...\n",
            "797     1.0       1.0  1.0  0.185803  0.125\n",
            "798     1.0       0.0  0.0  0.567850  0.000\n",
            "799     1.0       0.0  1.0  0.179540  0.125\n",
            "800     1.0       0.0  0.0  0.329854  0.000\n",
            "801     1.0       0.0  0.0  0.336117  0.000\n",
            "\n",
            "[802 rows x 5 columns]\n"
          ]
        }
      ]
    },
    {
      "cell_type": "code",
      "source": [
        "#Does this data need to be balanced?\n",
        "print(titanic_clean['survived'].value_counts())\n",
        "#The data is semi-balanced because while the numbers aren't even with each other, one is not majorly larger than the other"
      ],
      "metadata": {
        "colab": {
          "base_uri": "https://localhost:8080/"
        },
        "id": "6u2MBQ7IC4Di",
        "outputId": "3488b094-e1e8-4db5-d69d-3c4db7e624fe"
      },
      "execution_count": 45,
      "outputs": [
        {
          "output_type": "stream",
          "name": "stdout",
          "text": [
            "survived\n",
            "0    424\n",
            "1    378\n",
            "Name: count, dtype: int64\n"
          ]
        }
      ]
    },
    {
      "cell_type": "code",
      "source": [
        "#Use cross-validation as the data set is large and logistic regression model because it's the best way to interpret probilities such as figuring out which feature contributed to how someone would survive\n",
        "x = normalized_titanic[['pclass', 'sex', 'age', 'sibsp']]\n",
        "y = normalized_titanic['survived']\n",
        "model = LogisticRegression()\n",
        "model.fit(x, y)\n",
        "titanic_scores = cross_val_score(model, x, y, cv=10)\n",
        "\n",
        "average_titanic_accuracy = titanic_scores.mean()\n",
        "\n",
        "print(f'Cross-Validation Scores: {titanic_scores}')\n",
        "print(f'Average Accuracy: {average_titanic_accuracy}')"
      ],
      "metadata": {
        "colab": {
          "base_uri": "https://localhost:8080/"
        },
        "id": "2xOkmmNPIxPV",
        "outputId": "493566cb-e6ce-4a66-bd1d-29d39da0c4d3"
      },
      "execution_count": 46,
      "outputs": [
        {
          "output_type": "stream",
          "name": "stdout",
          "text": [
            "Cross-Validation Scores: [0.59259259 0.71604938 0.85       0.8125     0.825      0.7125\n",
            " 0.8125     0.5375     0.5875     0.6625    ]\n",
            "Average Accuracy: 0.7108641975308643\n"
          ]
        }
      ]
    },
    {
      "cell_type": "code",
      "source": [
        "#The best metric to use would be f1-score as the data is, while fairly balanced, isn't exactly so, so using f1 score will help make sure that nothing is thrown off\n",
        "scaler = StandardScaler()\n",
        "x_scaled = scaler.fit_transform(x)\n",
        "titanic_scores = cross_val_score(model, x_scaled, y, cv=10, scoring='f1')\n",
        "print(f\"F1 Scores for each fold: {titanic_scores}\")"
      ],
      "metadata": {
        "colab": {
          "base_uri": "https://localhost:8080/"
        },
        "id": "8TJmjkEU2gQk",
        "outputId": "dc1cb64b-7740-4210-88eb-59902188060b"
      },
      "execution_count": 47,
      "outputs": [
        {
          "output_type": "stream",
          "name": "stdout",
          "text": [
            "F1 Scores for each fold: [0.69811321 0.74157303 0.83116883 0.84931507 0.85333333 0.74418605\n",
            " 0.77777778 0.44444444 0.54285714 0.55172414]\n"
          ]
        }
      ]
    },
    {
      "cell_type": "code",
      "source": [
        "#What is the r-squared value?\n",
        "r_squared_value = model.score(x, y)\n",
        "print('R-squared: %.4f' % r_squared_value)"
      ],
      "metadata": {
        "colab": {
          "base_uri": "https://localhost:8080/"
        },
        "id": "W4n-gZvArj4E",
        "outputId": "12e45688-4ef7-4ad2-d0d1-a3f2f598f2ec"
      },
      "execution_count": 48,
      "outputs": [
        {
          "output_type": "stream",
          "name": "stdout",
          "text": [
            "R-squared: 0.7307\n"
          ]
        }
      ]
    },
    {
      "cell_type": "code",
      "source": [
        "# Create a DataFrame to display the feature importances\n",
        "coefficients = model.coef_[0]\n",
        "feature_names = x.columns\n",
        "feature_importance_titanic = pd.DataFrame({'Feature': feature_names, 'Importance': coefficients})\n",
        "feature_importance_titanic = feature_importance_titanic.sort_values(by='Importance', ascending=False)\n",
        "print(feature_importance_titanic)"
      ],
      "metadata": {
        "colab": {
          "base_uri": "https://localhost:8080/"
        },
        "id": "lCIz7-Fy0YtB",
        "outputId": "6bdd562d-1015-4c3f-abe2-25bb1f8d7fe7"
      },
      "execution_count": 49,
      "outputs": [
        {
          "output_type": "stream",
          "name": "stdout",
          "text": [
            "  Feature  Importance\n",
            "1     sex    1.993041\n",
            "0  pclass   -1.866045\n",
            "3   sibsp   -1.968127\n",
            "2     age   -2.256392\n"
          ]
        }
      ]
    },
    {
      "cell_type": "code",
      "source": [
        "#Which sex was more likely to survive?\n",
        "plt.figure(figsize=(20, 14))\n",
        "\n",
        "normalized_titanic_chart = normalized_titanic.groupby(['sex', 'survived']).size().unstack().fillna(0)\n",
        "\n",
        "ax = normalized_titanic_chart.plot(kind='bar', figsize=(10, 6), stacked=False)\n",
        "plt.title('Sex vs. Survival Rate')\n",
        "plt.xlabel('Sex')\n",
        "plt.ylabel('Count')\n",
        "\n",
        "plt.xticks(ticks=range(len(normalized_titanic_chart.index)), labels=normalized_titanic_chart.index)\n",
        "plt.legend(title='Survival', labels=['Not survive', 'Survived'])\n",
        "\n",
        "plt.show()\n",
        "#People who had previously smoked and people who haven't smoked at all don't have the same probablity of having a stroke"
      ],
      "metadata": {
        "id": "OYxc07zwKt2b",
        "colab": {
          "base_uri": "https://localhost:8080/",
          "height": 590
        },
        "outputId": "3a29bb40-1d12-4f55-cb8c-a7d03832db05"
      },
      "execution_count": 50,
      "outputs": [
        {
          "output_type": "display_data",
          "data": {
            "text/plain": [
              "<Figure size 2000x1400 with 0 Axes>"
            ]
          },
          "metadata": {}
        },
        {
          "output_type": "display_data",
          "data": {
            "text/plain": [
              "<Figure size 1000x600 with 1 Axes>"
            ],
            "image/png": "[encoded data removed]"
          },
          "metadata": {}
        }
      ]
    },
    {
      "cell_type": "code",
      "source": [],
      "metadata": {
        "id": "BqDvCnBma9Gt"
      },
      "execution_count": null,
      "outputs": []
    }
  ]
}