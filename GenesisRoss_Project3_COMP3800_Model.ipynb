{
  "nbformat": 4,
  "nbformat_minor": 0,
  "metadata": {
    "colab": {
      "provenance": [],
      "authorship_tag": "ABX9TyPk45A6H5KPE1dNU+36mnCJ",
      "include_colab_link": true
    },
    "kernelspec": {
      "name": "python3",
      "display_name": "Python 3"
    },
    "language_info": {
      "name": "python"
    }
  },
  "cells": [
    {
      "cell_type": "markdown",
      "metadata": {
        "id": "view-in-github",
        "colab_type": "text"
      },
      "source": [
        "<a href=\"https://colab.research.google.com/github/GalaxyBat/Comp3800/blob/main/GenesisRoss_Project3_COMP3800_Model.ipynb\" target=\"_parent\"><img src=\"https://colab.research.google.com/assets/colab-badge.svg\" alt=\"Open In Colab\"/></a>"
      ]
    },
    {
      "cell_type": "code",
      "source": [
        "#Youtube link: https://youtu.be/2COpY3ckons\n",
        "#GitHub link:"
      ],
      "metadata": {
        "id": "oVkWRDL5-Y1J"
      },
      "execution_count": null,
      "outputs": []
    },
    {
      "cell_type": "code",
      "execution_count": 42,
      "metadata": {
        "id": "eNQ6y68gPKkQ"
      },
      "outputs": [],
      "source": [
        "#Import all the libraries needed\n",
        "import matplotlib.pyplot as plt\n",
        "from sklearn.linear_model import LinearRegression\n",
        "from sklearn.model_selection import train_test_split\n",
        "import numpy as np\n",
        "from sklearn.linear_model import LogisticRegression\n",
        "from imblearn.over_sampling import SMOTE\n",
        "from sklearn.feature_selection import SelectKBest, f_classif, chi2\n",
        "from sklearn.metrics import confusion_matrix\n",
        "from sklearn.metrics import log_loss, roc_auc_score, recall_score, precision_score, average_precision_score, make_scorer, f1_score, classification_report, accuracy_score\n",
        "from sklearn.preprocessing import MinMaxScaler\n",
        "from sklearn import svm, datasets\n",
        "from sklearn.neighbors import KNeighborsClassifier\n",
        "%matplotlib inline\n",
        "from sklearn.preprocessing import StandardScaler\n",
        "from sklearn.model_selection import cross_val_score\n",
        "import joblib\n",
        "from sklearn.ensemble import GradientBoostingRegressor\n",
        "from sklearn.model_selection import train_test_split\n",
        "from sklearn.preprocessing import StandardScaler\n",
        "import pandas as pd\n",
        "\n",
        "df = pd.read_csv(\"ClassicHit.csv\")"
      ]
    },
    {
      "cell_type": "code",
      "source": [
        "print(df.dtypes)"
      ],
      "metadata": {
        "colab": {
          "base_uri": "https://localhost:8080/"
        },
        "id": "RhCOS3WUdJPa",
        "outputId": "27915bdf-67cf-4a9a-883e-b323a0c8d3a4"
      },
      "execution_count": 43,
      "outputs": [
        {
          "output_type": "stream",
          "name": "stdout",
          "text": [
            "Track                object\n",
            "Artist               object\n",
            "Year                  int64\n",
            "Duration              int64\n",
            "Time_Signature        int64\n",
            "Danceability        float64\n",
            "Energy              float64\n",
            "Key                   int64\n",
            "Loudness            float64\n",
            "Mode                  int64\n",
            "Speechiness         float64\n",
            "Acousticness        float64\n",
            "Instrumentalness    float64\n",
            "Liveness            float64\n",
            "Valence             float64\n",
            "Tempo               float64\n",
            "Popularity            int64\n",
            "Genre                object\n",
            "dtype: object\n"
          ]
        }
      ]
    },
    {
      "cell_type": "markdown",
      "source": [
        "Our goal is to figure out how a song features would affect's the songs popularity and if it'll make it more or less popular The attributes that would be most related to a song's popularity would be danceability (how much you can dance to the song), energy(if the song is upbeat or not), the year the song was released, acousticness(measure how much (if any) aucoustic instruments was used in the track), instrumentalness(how much of the song have vocals), and the genre of (the category of the song).\n",
        "\n",
        "The target variable is popularity."
      ],
      "metadata": {
        "id": "JEYaHtkrdtV1"
      }
    },
    {
      "cell_type": "code",
      "source": [
        "#Drop unwanted features\n",
        "df = df.drop(['Track', 'Artist', 'Duration', 'Time_Signature', 'Energy', 'Key', 'Loudness', 'Mode', 'Speechiness', 'Liveness', 'Valence', 'Tempo'], axis=1)\n",
        "print(df.dtypes)"
      ],
      "metadata": {
        "colab": {
          "base_uri": "https://localhost:8080/"
        },
        "id": "VsPK5n7XdnnB",
        "outputId": "f76eba8b-b12c-488d-cb46-93388061c8f2"
      },
      "execution_count": 44,
      "outputs": [
        {
          "output_type": "stream",
          "name": "stdout",
          "text": [
            "Year                  int64\n",
            "Danceability        float64\n",
            "Acousticness        float64\n",
            "Instrumentalness    float64\n",
            "Popularity            int64\n",
            "Genre                object\n",
            "dtype: object\n"
          ]
        }
      ]
    },
    {
      "cell_type": "code",
      "source": [
        "#How many nulls there are in each of the remaining features\n",
        "print(df.isnull().sum())\n",
        "#There are no nulls in the database"
      ],
      "metadata": {
        "colab": {
          "base_uri": "https://localhost:8080/"
        },
        "id": "M-YD2oCaoAxC",
        "outputId": "631a08e5-0151-490a-d930-2736a4f10360"
      },
      "execution_count": 45,
      "outputs": [
        {
          "output_type": "stream",
          "name": "stdout",
          "text": [
            "Year                0\n",
            "Danceability        0\n",
            "Acousticness        0\n",
            "Instrumentalness    0\n",
            "Popularity          0\n",
            "Genre               0\n",
            "dtype: int64\n"
          ]
        }
      ]
    },
    {
      "cell_type": "code",
      "source": [
        "#Drop duplicates\n",
        "classics_df = df.drop_duplicates()"
      ],
      "metadata": {
        "id": "AxKxFwKB3RmZ"
      },
      "execution_count": 46,
      "outputs": []
    },
    {
      "cell_type": "code",
      "source": [
        "#Check for inconsitent unique values in categorical data\n",
        "print(classics_df['Genre'].unique())"
      ],
      "metadata": {
        "colab": {
          "base_uri": "https://localhost:8080/"
        },
        "id": "YaLjizQf4Lpk",
        "outputId": "6d60c5d3-3a33-434a-eb97-34a689be3553"
      },
      "execution_count": 47,
      "outputs": [
        {
          "output_type": "stream",
          "name": "stdout",
          "text": [
            "['Alt. Rock' 'Blues' 'Country' 'Disco' 'EDM' 'Folk' 'Funk' 'Gospel' 'Jazz'\n",
            " 'Metal' 'Pop' 'Punk' 'R&B' 'Rap' 'Reggae' 'Rock' 'SKA' 'Today' 'World']\n"
          ]
        }
      ]
    },
    {
      "cell_type": "code",
      "source": [
        "#Change the categorical data into numeric values\n",
        "classics_df['Genre'] = classics_df['Genre'].map({'Alt. Rock': 18, 'Blues': 17, 'Country': 16, 'Disco': 15, 'EDM': 14, 'Folk': 13, 'Funk': 12, 'Gospel': 11, 'Jazz': 10, 'Metal': 9, 'Pop': 8, 'Punk': 7, 'R&B': 6, 'Rap': 5, 'Reggae': 4, 'Rock': 3, 'SKA': 2, 'Today': 1, 'World': 0  })\n",
        "print(classics_df['Genre'].unique())"
      ],
      "metadata": {
        "colab": {
          "base_uri": "https://localhost:8080/"
        },
        "id": "wFo7FSY75heb",
        "outputId": "0fbf36d7-cdbf-4691-b356-bf77bebdaa25"
      },
      "execution_count": 48,
      "outputs": [
        {
          "output_type": "stream",
          "name": "stdout",
          "text": [
            "[18 17 16 15 14 13 12 11 10  9  8  7  6  5  4  3  2  1  0]\n"
          ]
        },
        {
          "output_type": "stream",
          "name": "stderr",
          "text": [
            "<ipython-input-48-6b012426decf>:2: SettingWithCopyWarning: \n",
            "A value is trying to be set on a copy of a slice from a DataFrame.\n",
            "Try using .loc[row_indexer,col_indexer] = value instead\n",
            "\n",
            "See the caveats in the documentation: https://pandas.pydata.org/pandas-docs/stable/user_guide/indexing.html#returning-a-view-versus-a-copy\n",
            "  classics_df['Genre'] = classics_df['Genre'].map({'Alt. Rock': 18, 'Blues': 17, 'Country': 16, 'Disco': 15, 'EDM': 14, 'Folk': 13, 'Funk': 12, 'Gospel': 11, 'Jazz': 10, 'Metal': 9, 'Pop': 8, 'Punk': 7, 'R&B': 6, 'Rap': 5, 'Reggae': 4, 'Rock': 3, 'SKA': 2, 'Today': 1, 'World': 0  })\n"
          ]
        }
      ]
    },
    {
      "cell_type": "code",
      "source": [
        "#Check for outliers\n",
        "fig = plt.figure(figsize=(30, 10))\n",
        "i=0\n",
        "for column in classics_df:\n",
        "    sub=fig.add_subplot(3,5,i+1)\n",
        "    classics_df[column].plot(kind='hist')\n",
        "    sub.set_xlabel(column)\n",
        "    i=i+1\n",
        "plt.show()\n",
        "#No outliers shown"
      ],
      "metadata": {
        "colab": {
          "base_uri": "https://localhost:8080/",
          "height": 287
        },
        "id": "dMjcHlyIcqiY",
        "outputId": "5894aec0-d476-43a3-80d1-5cbfe12c6f13"
      },
      "execution_count": 49,
      "outputs": [
        {
          "output_type": "display_data",
          "data": {
            "text/plain": [
              "<Figure size 3000x1000 with 6 Axes>"
            ],
            "image/png": "[encoded data removed]"
          },
          "metadata": {}
        }
      ]
    },
    {
      "cell_type": "code",
      "source": [
        "#Use ANVO test to reduce the dimension for numerical features\n",
        "x = classics_df.loc[:, ['Year', 'Danceability', 'Acousticness', 'Instrumentalness']]\n",
        "y = classics_df.loc[:, 'Popularity']\n",
        "\n",
        "fs = SelectKBest(score_func=f_classif, k='all')\n",
        "bestFeatures = fs.fit(x, y)\n",
        "np.set_printoptions(suppress = True)\n",
        "print(bestFeatures.scores_)\n",
        "print(bestFeatures.pvalues_)\n",
        "#All scores are valuable"
      ],
      "metadata": {
        "colab": {
          "base_uri": "https://localhost:8080/"
        },
        "id": "zVwBL4UEdHfF",
        "outputId": "d446cda5-fad9-4de1-c93d-a6ef6bc0042e"
      },
      "execution_count": 50,
      "outputs": [
        {
          "output_type": "stream",
          "name": "stdout",
          "text": [
            "[18.15565973  4.44742483  9.97754328  5.19504699]\n",
            "[0. 0. 0. 0.]\n"
          ]
        }
      ]
    },
    {
      "cell_type": "code",
      "source": [
        "#Use chi-squared test to reduce the dimenion for categorical features\n",
        "chi = SelectKBest(score_func=chi2, k='all')\n",
        "x = classics_df.loc[:, ['Genre']]\n",
        "catFeatures = chi.fit(x, y)\n",
        "print(catFeatures.scores_)\n",
        "print(catFeatures.pvalues_)\n",
        "#All scores are valuable"
      ],
      "metadata": {
        "colab": {
          "base_uri": "https://localhost:8080/"
        },
        "id": "InI0Cq1Zntky",
        "outputId": "fd7c7adb-22c4-4d09-ad20-2ed5b91b19af"
      },
      "execution_count": 51,
      "outputs": [
        {
          "output_type": "stream",
          "name": "stdout",
          "text": [
            "[789.91730433]\n",
            "[0.]\n"
          ]
        }
      ]
    },
    {
      "cell_type": "code",
      "source": [
        "#Use correlation analysis to see if there's any high correlated features.\n",
        "print(classics_df.corr())\n",
        "#There are no highly correlated features"
      ],
      "metadata": {
        "colab": {
          "base_uri": "https://localhost:8080/"
        },
        "id": "-PLmIIasn92U",
        "outputId": "7ea24ac3-5d12-41f7-a71b-bf6789bd148b"
      },
      "execution_count": 52,
      "outputs": [
        {
          "output_type": "stream",
          "name": "stdout",
          "text": [
            "                      Year  Danceability  Acousticness  Instrumentalness  \\\n",
            "Year              1.000000      0.065376     -0.497714         -0.102704   \n",
            "Danceability      0.065376      1.000000     -0.104593         -0.131096   \n",
            "Acousticness     -0.497714     -0.104593      1.000000          0.112822   \n",
            "Instrumentalness -0.102704     -0.131096      0.112822          1.000000   \n",
            "Popularity        0.313683      0.127513     -0.224107         -0.163443   \n",
            "Genre            -0.237767     -0.057020      0.118898          0.055182   \n",
            "\n",
            "                  Popularity     Genre  \n",
            "Year                0.313683 -0.237767  \n",
            "Danceability        0.127513 -0.057020  \n",
            "Acousticness       -0.224107  0.118898  \n",
            "Instrumentalness   -0.163443  0.055182  \n",
            "Popularity          1.000000 -0.092184  \n",
            "Genre              -0.092184  1.000000  \n"
          ]
        }
      ]
    },
    {
      "cell_type": "code",
      "source": [
        "#Which scoring metric fits best for this prediction problem?\n",
        "print(classics_df['Popularity'].value_counts())\n",
        "#The best scoring metric would be MSE"
      ],
      "metadata": {
        "colab": {
          "base_uri": "https://localhost:8080/"
        },
        "id": "-ciC1ESlJ_6h",
        "outputId": "4e46b8eb-5923-459c-ef79-897c5e0fea1c"
      },
      "execution_count": 53,
      "outputs": [
        {
          "output_type": "stream",
          "name": "stdout",
          "text": [
            "Popularity\n",
            "49    284\n",
            "47    281\n",
            "52    280\n",
            "48    275\n",
            "40    267\n",
            "     ... \n",
            "96      2\n",
            "93      1\n",
            "95      1\n",
            "97      1\n",
            "98      1\n",
            "Name: count, Length: 98, dtype: int64\n"
          ]
        }
      ]
    },
    {
      "cell_type": "code",
      "source": [
        "#Turn Genre into dummy values\n",
        "classics_df = pd.get_dummies(classics_df, columns=['Genre'], drop_first=True)\n",
        "print(classics_df.head())"
      ],
      "metadata": {
        "colab": {
          "base_uri": "https://localhost:8080/"
        },
        "id": "O0OllPHM70_h",
        "outputId": "6d98bd35-cde4-4ae5-a41d-c7e680c1e557"
      },
      "execution_count": 54,
      "outputs": [
        {
          "output_type": "stream",
          "name": "stdout",
          "text": [
            "   Year  Danceability  Acousticness  Instrumentalness  Popularity  Genre_1  \\\n",
            "0  1987         0.616       0.03840          0.000000          40    False   \n",
            "1  1987         0.770       0.11200          0.003430          43    False   \n",
            "2  1987         0.593       0.00449          0.000032          12    False   \n",
            "3  1989         0.861       0.15400          0.000000          47    False   \n",
            "4  1992         0.622       0.01930          0.006840          43    False   \n",
            "\n",
            "   Genre_2  Genre_3  Genre_4  Genre_5  ...  Genre_9  Genre_10  Genre_11  \\\n",
            "0    False    False    False    False  ...    False     False     False   \n",
            "1    False    False    False    False  ...    False     False     False   \n",
            "2    False    False    False    False  ...    False     False     False   \n",
            "3    False    False    False    False  ...    False     False     False   \n",
            "4    False    False    False    False  ...    False     False     False   \n",
            "\n",
            "   Genre_12  Genre_13  Genre_14  Genre_15  Genre_16  Genre_17  Genre_18  \n",
            "0     False     False     False     False     False     False      True  \n",
            "1     False     False     False     False     False     False      True  \n",
            "2     False     False     False     False     False     False      True  \n",
            "3     False     False     False     False     False     False      True  \n",
            "4     False     False     False     False     False     False      True  \n",
            "\n",
            "[5 rows x 23 columns]\n"
          ]
        }
      ]
    },
    {
      "cell_type": "code",
      "source": [
        "#Normalize the data\n",
        "scaler = MinMaxScaler()\n",
        "normalized_classics_data = scaler.fit_transform(classics_df)\n",
        "normalized_classics = pd.DataFrame(normalized_classics_data, columns=classics_df.columns)\n",
        "\n",
        "print(normalized_classics)\n",
        "print(normalized_classics.dtypes)"
      ],
      "metadata": {
        "colab": {
          "base_uri": "https://localhost:8080/"
        },
        "id": "5KuOM3MCVPhz",
        "outputId": "64e28867-56d9-485f-fd28-8eb9fa3ac09e"
      },
      "execution_count": 39,
      "outputs": [
        {
          "output_type": "stream",
          "name": "stdout",
          "text": [
            "        Year  Danceability  Acousticness  Instrumentalness  Popularity  \\\n",
            "0      0.704      0.623482      0.038553          0.000000    0.408163   \n",
            "1      0.704      0.779352      0.112449          0.003475    0.438776   \n",
            "2      0.704      0.600202      0.004507          0.000032    0.122449   \n",
            "3      0.720      0.871457      0.154618          0.000000    0.479592   \n",
            "4      0.744      0.629555      0.019377          0.006930    0.438776   \n",
            "...      ...           ...           ...               ...         ...   \n",
            "15129  0.760      0.687247      0.077409          0.000004    0.479592   \n",
            "15130  0.768      0.700405      0.255019          0.017629    0.183673   \n",
            "15131  0.840      0.741903      0.042569          0.000102    0.255102   \n",
            "15132  0.864      0.704453      0.445783          0.019656    0.081633   \n",
            "15133  0.864      0.661943      0.305220          0.000238    0.051020   \n",
            "\n",
            "       Genre_1  Genre_2  Genre_3  Genre_4  Genre_5  ...  Genre_9  Genre_10  \\\n",
            "0          0.0      0.0      0.0      0.0      0.0  ...      0.0       0.0   \n",
            "1          0.0      0.0      0.0      0.0      0.0  ...      0.0       0.0   \n",
            "2          0.0      0.0      0.0      0.0      0.0  ...      0.0       0.0   \n",
            "3          0.0      0.0      0.0      0.0      0.0  ...      0.0       0.0   \n",
            "4          0.0      0.0      0.0      0.0      0.0  ...      0.0       0.0   \n",
            "...        ...      ...      ...      ...      ...  ...      ...       ...   \n",
            "15129      0.0      0.0      0.0      0.0      0.0  ...      0.0       0.0   \n",
            "15130      0.0      0.0      0.0      0.0      0.0  ...      0.0       0.0   \n",
            "15131      0.0      0.0      0.0      0.0      0.0  ...      0.0       0.0   \n",
            "15132      0.0      0.0      0.0      0.0      0.0  ...      0.0       0.0   \n",
            "15133      0.0      0.0      0.0      0.0      0.0  ...      0.0       0.0   \n",
            "\n",
            "       Genre_11  Genre_12  Genre_13  Genre_14  Genre_15  Genre_16  Genre_17  \\\n",
            "0           0.0       0.0       0.0       0.0       0.0       0.0       0.0   \n",
            "1           0.0       0.0       0.0       0.0       0.0       0.0       0.0   \n",
            "2           0.0       0.0       0.0       0.0       0.0       0.0       0.0   \n",
            "3           0.0       0.0       0.0       0.0       0.0       0.0       0.0   \n",
            "4           0.0       0.0       0.0       0.0       0.0       0.0       0.0   \n",
            "...         ...       ...       ...       ...       ...       ...       ...   \n",
            "15129       0.0       0.0       0.0       0.0       0.0       0.0       0.0   \n",
            "15130       0.0       0.0       0.0       0.0       0.0       0.0       0.0   \n",
            "15131       0.0       0.0       0.0       0.0       0.0       0.0       0.0   \n",
            "15132       0.0       0.0       0.0       0.0       0.0       0.0       0.0   \n",
            "15133       0.0       0.0       0.0       0.0       0.0       0.0       0.0   \n",
            "\n",
            "       Genre_18  \n",
            "0           1.0  \n",
            "1           1.0  \n",
            "2           1.0  \n",
            "3           1.0  \n",
            "4           1.0  \n",
            "...         ...  \n",
            "15129       0.0  \n",
            "15130       0.0  \n",
            "15131       0.0  \n",
            "15132       0.0  \n",
            "15133       0.0  \n",
            "\n",
            "[15134 rows x 23 columns]\n",
            "Year                float64\n",
            "Danceability        float64\n",
            "Acousticness        float64\n",
            "Instrumentalness    float64\n",
            "Popularity          float64\n",
            "Genre_1             float64\n",
            "Genre_2             float64\n",
            "Genre_3             float64\n",
            "Genre_4             float64\n",
            "Genre_5             float64\n",
            "Genre_6             float64\n",
            "Genre_7             float64\n",
            "Genre_8             float64\n",
            "Genre_9             float64\n",
            "Genre_10            float64\n",
            "Genre_11            float64\n",
            "Genre_12            float64\n",
            "Genre_13            float64\n",
            "Genre_14            float64\n",
            "Genre_15            float64\n",
            "Genre_16            float64\n",
            "Genre_17            float64\n",
            "Genre_18            float64\n",
            "dtype: object\n"
          ]
        }
      ]
    },
    {
      "cell_type": "code",
      "source": [
        "#Importing gradientBoosting Regressor and getting the cross val and MSE scores\n",
        "from sklearn.ensemble import GradientBoostingRegressor\n",
        "\n",
        "x = normalized_classics.drop('Popularity', axis=1)\n",
        "y = normalized_classics['Popularity']\n",
        "\n",
        "model = GradientBoostingRegressor(n_estimators=100, learning_rate=0.1, max_depth=3, random_state=42)\n",
        "model.fit(x, y)\n",
        "classics_scores = cross_val_score(model, x, y, cv=10, scoring='neg_mean_squared_error')\n",
        "\n",
        "classics_mse_scores = -classics_scores\n",
        "\n",
        "classics_mse = classics_mse_scores.mean()\n",
        "\n",
        "print(f'Cross-Validation Scores: {classics_mse_scores}')\n",
        "print(f'MSE: {classics_mse}')"
      ],
      "metadata": {
        "colab": {
          "base_uri": "https://localhost:8080/"
        },
        "id": "gRhoe0nvMk7Y",
        "outputId": "5dc3609d-9a83-4338-9c39-fecb321631ea"
      },
      "execution_count": 40,
      "outputs": [
        {
          "output_type": "stream",
          "name": "stdout",
          "text": [
            "Cross-Validation Scores: [0.04483338 0.03397169 0.02890083 0.02809985 0.03015337 0.03342499\n",
            " 0.0304     0.03529626 0.02782274 0.04079158]\n",
            "MSE: 0.03336946794240388\n"
          ]
        }
      ]
    },
    {
      "cell_type": "code",
      "source": [
        "#What is the  r-squared value?\n",
        "r_squared_value = model.score(x, y)\n",
        "print('R-squared: %.4f' % r_squared_value)"
      ],
      "metadata": {
        "colab": {
          "base_uri": "https://localhost:8080/"
        },
        "id": "EBU_emy1sbmi",
        "outputId": "aec5df21-c173-4bdd-e427-fb2fab15dada"
      },
      "execution_count": 17,
      "outputs": [
        {
          "output_type": "stream",
          "name": "stdout",
          "text": [
            "R-squared: 0.4105\n"
          ]
        }
      ]
    },
    {
      "cell_type": "code",
      "source": [
        "# Create a DataFrame to display the feature importances\n",
        "feature_importance = model.feature_importances_\n",
        "feature_names = x.columns\n",
        "feature_importance_classics = pd.DataFrame({'Feature': feature_names, 'Importance': feature_importance})\n",
        "feature_importance_classics = feature_importance_classics.sort_values(by='Importance', ascending=False)\n",
        "print(feature_importance_classics)"
      ],
      "metadata": {
        "colab": {
          "base_uri": "https://localhost:8080/"
        },
        "id": "Soez-QI05pJL",
        "outputId": "5110dbe5-73c9-4a93-f939-8f299a636f18"
      },
      "execution_count": 19,
      "outputs": [
        {
          "output_type": "stream",
          "name": "stdout",
          "text": [
            "             Feature  Importance\n",
            "0               Year    0.294803\n",
            "11           Genre_8    0.230456\n",
            "6            Genre_3    0.089851\n",
            "4            Genre_1    0.087932\n",
            "21          Genre_18    0.062566\n",
            "2       Acousticness    0.052338\n",
            "3   Instrumentalness    0.036643\n",
            "8            Genre_5    0.032128\n",
            "20          Genre_17    0.022570\n",
            "12           Genre_9    0.020497\n",
            "9            Genre_6    0.020401\n",
            "1       Danceability    0.016140\n",
            "14          Genre_11    0.011003\n",
            "5            Genre_2    0.005537\n",
            "19          Genre_16    0.004142\n",
            "18          Genre_15    0.003580\n",
            "16          Genre_13    0.002794\n",
            "10           Genre_7    0.002708\n",
            "17          Genre_14    0.001853\n",
            "7            Genre_4    0.001063\n",
            "13          Genre_10    0.000994\n",
            "15          Genre_12    0.000000\n"
          ]
        }
      ]
    },
    {
      "cell_type": "code",
      "source": [
        "!pip install matplotlib seaborn\n",
        "import seaborn as sns\n",
        "# Assuming feature_importance_classics is already created\n",
        "feature_importance_classics = pd.DataFrame({\n",
        "    'Feature':\n",
        "     ['Year', 'Genre_8', 'Genre_3', 'Genre_1', 'Genre_18', 'Acousticness', 'Instrumentalness',\n",
        "      'Genre_5', 'Genre_17', 'Genre_9', 'Genre_6', 'Danceability', 'Genre_11', 'Genre_2',\n",
        "      'Genre_16', 'Genre_15', 'Genre_13', 'Genre_7', 'Genre_14', 'Genre_4', 'Genre_10', 'Genre_12'],\n",
        "      'Importance': [0.294803, 0.230456, 0.089851, 0.087932, 0.062566, 0.052338, 0.036643, 0.032128, 0.022570,\n",
        "                     0.020497, 0.020401, 0.016140, 0.011003, 0.005537, 0.004142, 0.003580, 0.002794, 0.002708,\n",
        "                     0.001853, 0.001063, 0.000994, 0.000000]\n",
        "      })\n",
        "feature_importance_classics = feature_importance_classics.sort_values(by='Importance', ascending=False)\n",
        "\n",
        "plt.figure(figsize=(12, 8))\n",
        "sns.barplot(x='Importance', y='Feature', data=feature_importance_classics, palette='viridis')\n",
        "plt.title('Feature Importances')\n",
        "plt.xlabel('Importance')\n",
        "plt.ylabel('Feature')\n",
        "plt.show()"
      ],
      "metadata": {
        "colab": {
          "base_uri": "https://localhost:8080/",
          "height": 1000
        },
        "id": "_9JVoINJ_0nL",
        "outputId": "c086aef8-3139-43d0-ef52-6af31d73da7a"
      },
      "execution_count": 20,
      "outputs": [
        {
          "output_type": "stream",
          "name": "stdout",
          "text": [
            "Requirement already satisfied: matplotlib in /usr/local/lib/python3.10/dist-packages (3.8.0)\n",
            "Requirement already satisfied: seaborn in /usr/local/lib/python3.10/dist-packages (0.13.2)\n",
            "Requirement already satisfied: contourpy>=1.0.1 in /usr/local/lib/python3.10/dist-packages (from matplotlib) (1.3.1)\n",
            "Requirement already satisfied: cycler>=0.10 in /usr/local/lib/python3.10/dist-packages (from matplotlib) (0.12.1)\n",
            "Requirement already satisfied: fonttools>=4.22.0 in /usr/local/lib/python3.10/dist-packages (from matplotlib) (4.55.1)\n",
            "Requirement already satisfied: kiwisolver>=1.0.1 in /usr/local/lib/python3.10/dist-packages (from matplotlib) (1.4.7)\n",
            "Requirement already satisfied: numpy<2,>=1.21 in /usr/local/lib/python3.10/dist-packages (from matplotlib) (1.26.4)\n",
            "Requirement already satisfied: packaging>=20.0 in /usr/local/lib/python3.10/dist-packages (from matplotlib) (24.2)\n",
            "Requirement already satisfied: pillow>=6.2.0 in /usr/local/lib/python3.10/dist-packages (from matplotlib) (11.0.0)\n",
            "Requirement already satisfied: pyparsing>=2.3.1 in /usr/local/lib/python3.10/dist-packages (from matplotlib) (3.2.0)\n",
            "Requirement already satisfied: python-dateutil>=2.7 in /usr/local/lib/python3.10/dist-packages (from matplotlib) (2.8.2)\n",
            "Requirement already satisfied: pandas>=1.2 in /usr/local/lib/python3.10/dist-packages (from seaborn) (2.2.2)\n",
            "Requirement already satisfied: pytz>=2020.1 in /usr/local/lib/python3.10/dist-packages (from pandas>=1.2->seaborn) (2024.2)\n",
            "Requirement already satisfied: tzdata>=2022.7 in /usr/local/lib/python3.10/dist-packages (from pandas>=1.2->seaborn) (2024.2)\n",
            "Requirement already satisfied: six>=1.5 in /usr/local/lib/python3.10/dist-packages (from python-dateutil>=2.7->matplotlib) (1.16.0)\n"
          ]
        },
        {
          "output_type": "stream",
          "name": "stderr",
          "text": [
            "<ipython-input-20-0fd9d917eaff>:16: FutureWarning: \n",
            "\n",
            "Passing `palette` without assigning `hue` is deprecated and will be removed in v0.14.0. Assign the `y` variable to `hue` and set `legend=False` for the same effect.\n",
            "\n",
            "  sns.barplot(x='Importance', y='Feature', data=feature_importance_classics, palette='viridis')\n"
          ]
        },
        {
          "output_type": "display_data",
          "data": {
            "text/plain": [
              "<Figure size 1200x800 with 1 Axes>"
            ],
            "image/png": "[encoded data removed]"
          },
          "metadata": {}
        }
      ]
    },
    {
      "cell_type": "code",
      "source": [
        "import joblib\n",
        "\n",
        "from google.colab import files\n",
        "uploaded = files.upload()\n",
        "\n",
        "scaler = StandardScaler()\n",
        "x_scaled = scaler.fit_transform(x)\n",
        "joblib.dump(scaler, 'scaler.pkl')\n",
        "\n",
        "joblib.dump(model, 'popularity_model.pkl')"
      ],
      "metadata": {
        "colab": {
          "base_uri": "https://localhost:8080/",
          "height": 375
        },
        "id": "7O7AHr5JKLPR",
        "outputId": "79164a64-7148-4fd0-e349-3e47daf34eed"
      },
      "execution_count": 25,
      "outputs": [
        {
          "output_type": "display_data",
          "data": {
            "text/plain": [
              "<IPython.core.display.HTML object>"
            ],
            "text/html": [
              "\n",
              "     <input type=\"file\" id=\"files-d73915e0-be3b-4639-8294-191bb15eca43\" name=\"files[]\" multiple disabled\n",
              "        style=\"border:none\" />\n",
              "     <output id=\"result-d73915e0-be3b-4639-8294-191bb15eca43\">\n",
              "      Upload widget is only available when the cell has been executed in the\n",
              "      current browser session. Please rerun this cell to enable.\n",
              "      </output>\n",
              "      <script>// Copyright 2017 Google LLC\n",
              "//\n",
              "// Licensed under the Apache License, Version 2.0 (the \"License\");\n",
              "// you may not use this file except in compliance with the License.\n",
              "// You may obtain a copy of the License at\n",
              "//\n",
              "//      http://www.apache.org/licenses/LICENSE-2.0\n",
              "//\n",
              "// Unless required by applicable law or agreed to in writing, software\n",
              "// distributed under the License is distributed on an \"AS IS\" BASIS,\n",
              "// WITHOUT WARRANTIES OR CONDITIONS OF ANY KIND, either express or implied.\n",
              "// See the License for the specific language governing permissions and\n",
              "// limitations under the License.\n",
              "\n",
              "/**\n",
              " * @fileoverview Helpers for google.colab Python module.\n",
              " */\n",
              "(function(scope) {\n",
              "function span(text, styleAttributes = {}) {\n",
              "  const element = document.createElement('span');\n",
              "  element.textContent = text;\n",
              "  for (const key of Object.keys(styleAttributes)) {\n",
              "    element.style[key] = styleAttributes[key];\n",
              "  }\n",
              "  return element;\n",
              "}\n",
              "\n",
              "// Max number of bytes which will be uploaded at a time.\n",
              "const MAX_PAYLOAD_SIZE = 100 * 1024;\n",
              "\n",
              "function _uploadFiles(inputId, outputId) {\n",
              "  const steps = uploadFilesStep(inputId, outputId);\n",
              "  const outputElement = document.getElementById(outputId);\n",
              "  // Cache steps on the outputElement to make it available for the next call\n",
              "  // to uploadFilesContinue from Python.\n",
              "  outputElement.steps = steps;\n",
              "\n",
              "  return _uploadFilesContinue(outputId);\n",
              "}\n",
              "\n",
              "// This is roughly an async generator (not supported in the browser yet),\n",
              "// where there are multiple asynchronous steps and the Python side is going\n",
              "// to poll for completion of each step.\n",
              "// This uses a Promise to block the python side on completion of each step,\n",
              "// then passes the result of the previous step as the input to the next step.\n",
              "function _uploadFilesContinue(outputId) {\n",
              "  const outputElement = document.getElementById(outputId);\n",
              "  const steps = outputElement.steps;\n",
              "\n",
              "  const next = steps.next(outputElement.lastPromiseValue);\n",
              "  return Promise.resolve(next.value.promise).then((value) => {\n",
              "    // Cache the last promise value to make it available to the next\n",
              "    // step of the generator.\n",
              "    outputElement.lastPromiseValue = value;\n",
              "    return next.value.response;\n",
              "  });\n",
              "}\n",
              "\n",
              "/**\n",
              " * Generator function which is called between each async step of the upload\n",
              " * process.\n",
              " * @param {string} inputId Element ID of the input file picker element.\n",
              " * @param {string} outputId Element ID of the output display.\n",
              " * @return {!Iterable<!Object>} Iterable of next steps.\n",
              " */\n",
              "function* uploadFilesStep(inputId, outputId) {\n",
              "  const inputElement = document.getElementById(inputId);\n",
              "  inputElement.disabled = false;\n",
              "\n",
              "  const outputElement = document.getElementById(outputId);\n",
              "  outputElement.innerHTML = '';\n",
              "\n",
              "  const pickedPromise = new Promise((resolve) => {\n",
              "    inputElement.addEventListener('change', (e) => {\n",
              "      resolve(e.target.files);\n",
              "    });\n",
              "  });\n",
              "\n",
              "  const cancel = document.createElement('button');\n",
              "  inputElement.parentElement.appendChild(cancel);\n",
              "  cancel.textContent = 'Cancel upload';\n",
              "  const cancelPromise = new Promise((resolve) => {\n",
              "    cancel.onclick = () => {\n",
              "      resolve(null);\n",
              "    };\n",
              "  });\n",
              "\n",
              "  // Wait for the user to pick the files.\n",
              "  const files = yield {\n",
              "    promise: Promise.race([pickedPromise, cancelPromise]),\n",
              "    response: {\n",
              "      action: 'starting',\n",
              "    }\n",
              "  };\n",
              "\n",
              "  cancel.remove();\n",
              "\n",
              "  // Disable the input element since further picks are not allowed.\n",
              "  inputElement.disabled = true;\n",
              "\n",
              "  if (!files) {\n",
              "    return {\n",
              "      response: {\n",
              "        action: 'complete',\n",
              "      }\n",
              "    };\n",
              "  }\n",
              "\n",
              "  for (const file of files) {\n",
              "    const li = document.createElement('li');\n",
              "    li.append(span(file.name, {fontWeight: 'bold'}));\n",
              "    li.append(span(\n",
              "        `(${file.type || 'n/a'}) - ${file.size} bytes, ` +\n",
              "        `last modified: ${\n",
              "            file.lastModifiedDate ? file.lastModifiedDate.toLocaleDateString() :\n",
              "                                    'n/a'} - `));\n",
              "    const percent = span('0% done');\n",
              "    li.appendChild(percent);\n",
              "\n",
              "    outputElement.appendChild(li);\n",
              "\n",
              "    const fileDataPromise = new Promise((resolve) => {\n",
              "      const reader = new FileReader();\n",
              "      reader.onload = (e) => {\n",
              "        resolve(e.target.result);\n",
              "      };\n",
              "      reader.readAsArrayBuffer(file);\n",
              "    });\n",
              "    // Wait for the data to be ready.\n",
              "    let fileData = yield {\n",
              "      promise: fileDataPromise,\n",
              "      response: {\n",
              "        action: 'continue',\n",
              "      }\n",
              "    };\n",
              "\n",
              "    // Use a chunked sending to avoid message size limits. See b/62115660.\n",
              "    let position = 0;\n",
              "    do {\n",
              "      const length = Math.min(fileData.byteLength - position, MAX_PAYLOAD_SIZE);\n",
              "      const chunk = new Uint8Array(fileData, position, length);\n",
              "      position += length;\n",
              "\n",
              "      const base64 = btoa(String.fromCharCode.apply(null, chunk));\n",
              "      yield {\n",
              "        response: {\n",
              "          action: 'append',\n",
              "          file: file.name,\n",
              "          data: base64,\n",
              "        },\n",
              "      };\n",
              "\n",
              "      let percentDone = fileData.byteLength === 0 ?\n",
              "          100 :\n",
              "          Math.round((position / fileData.byteLength) * 100);\n",
              "      percent.textContent = `${percentDone}% done`;\n",
              "\n",
              "    } while (position < fileData.byteLength);\n",
              "  }\n",
              "\n",
              "  // All done.\n",
              "  yield {\n",
              "    response: {\n",
              "      action: 'complete',\n",
              "    }\n",
              "  };\n",
              "}\n",
              "\n",
              "scope.google = scope.google || {};\n",
              "scope.google.colab = scope.google.colab || {};\n",
              "scope.google.colab._files = {\n",
              "  _uploadFiles,\n",
              "  _uploadFilesContinue,\n",
              "};\n",
              "})(self);\n",
              "</script> "
            ]
          },
          "metadata": {}
        },
        {
          "output_type": "error",
          "ename": "KeyboardInterrupt",
          "evalue": "",
          "traceback": [
            "\u001b[0;31m---------------------------------------------------------------------------\u001b[0m",
            "\u001b[0;31mKeyboardInterrupt\u001b[0m                         Traceback (most recent call last)",
            "\u001b[0;32m<ipython-input-25-bfcbfba49f40>\u001b[0m in \u001b[0;36m<cell line: 4>\u001b[0;34m()\u001b[0m\n\u001b[1;32m      2\u001b[0m \u001b[0;34m\u001b[0m\u001b[0m\n\u001b[1;32m      3\u001b[0m \u001b[0;32mfrom\u001b[0m \u001b[0mgoogle\u001b[0m\u001b[0;34m.\u001b[0m\u001b[0mcolab\u001b[0m \u001b[0;32mimport\u001b[0m \u001b[0mfiles\u001b[0m\u001b[0;34m\u001b[0m\u001b[0;34m\u001b[0m\u001b[0m\n\u001b[0;32m----> 4\u001b[0;31m \u001b[0muploaded\u001b[0m \u001b[0;34m=\u001b[0m \u001b[0mfiles\u001b[0m\u001b[0;34m.\u001b[0m\u001b[0mupload\u001b[0m\u001b[0;34m(\u001b[0m\u001b[0;34m)\u001b[0m\u001b[0;34m\u001b[0m\u001b[0;34m\u001b[0m\u001b[0m\n\u001b[0m\u001b[1;32m      5\u001b[0m \u001b[0;34m\u001b[0m\u001b[0m\n\u001b[1;32m      6\u001b[0m \u001b[0mscaler\u001b[0m \u001b[0;34m=\u001b[0m \u001b[0mStandardScaler\u001b[0m\u001b[0;34m(\u001b[0m\u001b[0;34m)\u001b[0m\u001b[0;34m\u001b[0m\u001b[0;34m\u001b[0m\u001b[0m\n",
            "\u001b[0;32m/usr/local/lib/python3.10/dist-packages/google/colab/files.py\u001b[0m in \u001b[0;36mupload\u001b[0;34m(target_dir)\u001b[0m\n\u001b[1;32m     70\u001b[0m   \"\"\"\n\u001b[1;32m     71\u001b[0m \u001b[0;34m\u001b[0m\u001b[0m\n\u001b[0;32m---> 72\u001b[0;31m   \u001b[0muploaded_files\u001b[0m \u001b[0;34m=\u001b[0m \u001b[0m_upload_files\u001b[0m\u001b[0;34m(\u001b[0m\u001b[0mmultiple\u001b[0m\u001b[0;34m=\u001b[0m\u001b[0;32mTrue\u001b[0m\u001b[0;34m)\u001b[0m\u001b[0;34m\u001b[0m\u001b[0;34m\u001b[0m\u001b[0m\n\u001b[0m\u001b[1;32m     73\u001b[0m   \u001b[0;31m# Mapping from original filename to filename as saved locally.\u001b[0m\u001b[0;34m\u001b[0m\u001b[0;34m\u001b[0m\u001b[0m\n\u001b[1;32m     74\u001b[0m   \u001b[0mlocal_filenames\u001b[0m \u001b[0;34m=\u001b[0m \u001b[0mdict\u001b[0m\u001b[0;34m(\u001b[0m\u001b[0;34m)\u001b[0m\u001b[0;34m\u001b[0m\u001b[0;34m\u001b[0m\u001b[0m\n",
            "\u001b[0;32m/usr/local/lib/python3.10/dist-packages/google/colab/files.py\u001b[0m in \u001b[0;36m_upload_files\u001b[0;34m(multiple)\u001b[0m\n\u001b[1;32m    162\u001b[0m \u001b[0;34m\u001b[0m\u001b[0m\n\u001b[1;32m    163\u001b[0m   \u001b[0;31m# First result is always an indication that the file picker has completed.\u001b[0m\u001b[0;34m\u001b[0m\u001b[0;34m\u001b[0m\u001b[0m\n\u001b[0;32m--> 164\u001b[0;31m   result = _output.eval_js(\n\u001b[0m\u001b[1;32m    165\u001b[0m       'google.colab._files._uploadFiles(\"{input_id}\", \"{output_id}\")'.format(\n\u001b[1;32m    166\u001b[0m           \u001b[0minput_id\u001b[0m\u001b[0;34m=\u001b[0m\u001b[0minput_id\u001b[0m\u001b[0;34m,\u001b[0m \u001b[0moutput_id\u001b[0m\u001b[0;34m=\u001b[0m\u001b[0moutput_id\u001b[0m\u001b[0;34m\u001b[0m\u001b[0;34m\u001b[0m\u001b[0m\n",
            "\u001b[0;32m/usr/local/lib/python3.10/dist-packages/google/colab/output/_js.py\u001b[0m in \u001b[0;36meval_js\u001b[0;34m(script, ignore_result, timeout_sec)\u001b[0m\n\u001b[1;32m     38\u001b[0m   \u001b[0;32mif\u001b[0m \u001b[0mignore_result\u001b[0m\u001b[0;34m:\u001b[0m\u001b[0;34m\u001b[0m\u001b[0;34m\u001b[0m\u001b[0m\n\u001b[1;32m     39\u001b[0m     \u001b[0;32mreturn\u001b[0m\u001b[0;34m\u001b[0m\u001b[0;34m\u001b[0m\u001b[0m\n\u001b[0;32m---> 40\u001b[0;31m   \u001b[0;32mreturn\u001b[0m \u001b[0m_message\u001b[0m\u001b[0;34m.\u001b[0m\u001b[0mread_reply_from_input\u001b[0m\u001b[0;34m(\u001b[0m\u001b[0mrequest_id\u001b[0m\u001b[0;34m,\u001b[0m \u001b[0mtimeout_sec\u001b[0m\u001b[0;34m)\u001b[0m\u001b[0;34m\u001b[0m\u001b[0;34m\u001b[0m\u001b[0m\n\u001b[0m\u001b[1;32m     41\u001b[0m \u001b[0;34m\u001b[0m\u001b[0m\n\u001b[1;32m     42\u001b[0m \u001b[0;34m\u001b[0m\u001b[0m\n",
            "\u001b[0;32m/usr/local/lib/python3.10/dist-packages/google/colab/_message.py\u001b[0m in \u001b[0;36mread_reply_from_input\u001b[0;34m(message_id, timeout_sec)\u001b[0m\n\u001b[1;32m     94\u001b[0m     \u001b[0mreply\u001b[0m \u001b[0;34m=\u001b[0m \u001b[0m_read_next_input_message\u001b[0m\u001b[0;34m(\u001b[0m\u001b[0;34m)\u001b[0m\u001b[0;34m\u001b[0m\u001b[0;34m\u001b[0m\u001b[0m\n\u001b[1;32m     95\u001b[0m     \u001b[0;32mif\u001b[0m \u001b[0mreply\u001b[0m \u001b[0;34m==\u001b[0m \u001b[0m_NOT_READY\u001b[0m \u001b[0;32mor\u001b[0m \u001b[0;32mnot\u001b[0m \u001b[0misinstance\u001b[0m\u001b[0;34m(\u001b[0m\u001b[0mreply\u001b[0m\u001b[0;34m,\u001b[0m \u001b[0mdict\u001b[0m\u001b[0;34m)\u001b[0m\u001b[0;34m:\u001b[0m\u001b[0;34m\u001b[0m\u001b[0;34m\u001b[0m\u001b[0m\n\u001b[0;32m---> 96\u001b[0;31m       \u001b[0mtime\u001b[0m\u001b[0;34m.\u001b[0m\u001b[0msleep\u001b[0m\u001b[0;34m(\u001b[0m\u001b[0;36m0.025\u001b[0m\u001b[0;34m)\u001b[0m\u001b[0;34m\u001b[0m\u001b[0;34m\u001b[0m\u001b[0m\n\u001b[0m\u001b[1;32m     97\u001b[0m       \u001b[0;32mcontinue\u001b[0m\u001b[0;34m\u001b[0m\u001b[0;34m\u001b[0m\u001b[0m\n\u001b[1;32m     98\u001b[0m     if (\n",
            "\u001b[0;31mKeyboardInterrupt\u001b[0m: "
          ]
        }
      ]
    },
    {
      "cell_type": "code",
      "source": [],
      "metadata": {
        "id": "o-E0Cg61PzGI"
      },
      "execution_count": null,
      "outputs": []
    }
  ]
}